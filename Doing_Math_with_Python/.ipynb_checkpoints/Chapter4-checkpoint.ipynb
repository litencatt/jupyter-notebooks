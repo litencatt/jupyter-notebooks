{
 "cells": [
  {
   "cell_type": "markdown",
   "metadata": {},
   "source": [
    "### SymPyで代数と式を計算する"
   ]
  },
  {
   "cell_type": "code",
   "execution_count": 2,
   "metadata": {
    "collapsed": false
   },
   "outputs": [
    {
     "data": {
      "text/plain": [
       "2*x + 1"
      ]
     },
     "execution_count": 2,
     "metadata": {},
     "output_type": "execute_result"
    }
   ],
   "source": [
    "from sympy import Symbol\n",
    "x = Symbol('x')\n",
    "x + x + 1"
   ]
  },
  {
   "cell_type": "code",
   "execution_count": 4,
   "metadata": {
    "collapsed": false
   },
   "outputs": [
    {
     "data": {
      "text/plain": [
       "'x'"
      ]
     },
     "execution_count": 4,
     "metadata": {},
     "output_type": "execute_result"
    }
   ],
   "source": [
    "x.name"
   ]
  },
  {
   "cell_type": "code",
   "execution_count": 5,
   "metadata": {
    "collapsed": false
   },
   "outputs": [
    {
     "data": {
      "text/plain": [
       "'x'"
      ]
     },
     "execution_count": 5,
     "metadata": {},
     "output_type": "execute_result"
    }
   ],
   "source": [
    "a = Symbol('x')\n",
    "a.name"
   ]
  },
  {
   "cell_type": "code",
   "execution_count": 7,
   "metadata": {
    "collapsed": false
   },
   "outputs": [],
   "source": [
    "from sympy import symbols\n",
    "x,y,z = symbols('x,y,z')"
   ]
  },
  {
   "cell_type": "code",
   "execution_count": 8,
   "metadata": {
    "collapsed": false
   },
   "outputs": [
    {
     "data": {
      "text/plain": [
       "2*x*y"
      ]
     },
     "execution_count": 8,
     "metadata": {},
     "output_type": "execute_result"
    }
   ],
   "source": [
    "x,y = symbols('x,y')\n",
    "s = x*y + x*y\n",
    "s"
   ]
  },
  {
   "cell_type": "code",
   "execution_count": 10,
   "metadata": {
    "collapsed": false
   },
   "outputs": [
    {
     "data": {
      "text/plain": [
       "2*x**2"
      ]
     },
     "execution_count": 10,
     "metadata": {},
     "output_type": "execute_result"
    }
   ],
   "source": [
    "p = x*(x + x)\n",
    "p"
   ]
  },
  {
   "cell_type": "code",
   "execution_count": 11,
   "metadata": {
    "collapsed": false
   },
   "outputs": [
    {
     "data": {
      "text/plain": [
       "(x + 2)*(x + 3)"
      ]
     },
     "execution_count": 11,
     "metadata": {},
     "output_type": "execute_result"
    }
   ],
   "source": [
    "p = (x + 2)*(x + 3)\n",
    "p"
   ]
  },
  {
   "cell_type": "code",
   "execution_count": 12,
   "metadata": {
    "collapsed": false
   },
   "outputs": [
    {
     "data": {
      "text/plain": [
       "(x - y)*(x + y)"
      ]
     },
     "execution_count": 12,
     "metadata": {},
     "output_type": "execute_result"
    }
   ],
   "source": [
    "## 4.2 式を扱う\n",
    "from sympy import Symbol, factor, expand\n",
    "x = Symbol('x')\n",
    "y = Symbol('y')\n",
    "expr = x**2 - y**2\n",
    "factor(expr)"
   ]
  },
  {
   "cell_type": "code",
   "execution_count": 13,
   "metadata": {
    "collapsed": false
   },
   "outputs": [
    {
     "name": "stdout",
     "output_type": "stream",
     "text": [
      " 2            2\n",
      "x  + 2⋅x⋅y + y \n"
     ]
    }
   ],
   "source": [
    "from sympy import pprint\n",
    "expr = x*x + 2*x*y + y*y\n",
    "pprint(expr, use_unicode=True)"
   ]
  },
  {
   "cell_type": "code",
   "execution_count": 24,
   "metadata": {
    "collapsed": false
   },
   "outputs": [
    {
     "name": "stdout",
     "output_type": "stream",
     "text": [
      "Enter the number of terms you want in the series: 3\n",
      "x**3/3 + x**2/2 + x\n"
     ]
    }
   ],
   "source": [
    "## 級数を出力する\n",
    "'''\n",
    "Print the series:\n",
    "x + x**2/2 + x**3/3 + ... + x**n/n\n",
    "and calculate its value at a certain value of x.\n",
    "'''\n",
    "from sympy import Symbol, pprint, init_printing\n",
    "\n",
    "def print_series(n):\n",
    "    # initialize printing system with reverse order\n",
    "#    init_printing(order='rev-lex')\n",
    "    x = Symbol('x')\n",
    "    series = x\n",
    "    for i in range(2, n+1):\n",
    "        series = series + (x**i)/i\n",
    "    print(series)\n",
    "    \n",
    "if __name__ == '__main__':\n",
    "    n = input('Enter the number of terms you want in the series: ')\n",
    "    print_series(int(n))"
   ]
  },
  {
   "cell_type": "code",
   "execution_count": 6,
   "metadata": {
    "collapsed": false
   },
   "outputs": [
    {
     "data": {
      "image/png": "[encoded data removed]",
      "text/latex": [
       "$$9$$"
      ],
      "text/plain": [
       "9"
      ]
     },
     "execution_count": 6,
     "metadata": {},
     "output_type": "execute_result"
    }
   ],
   "source": [
    "## 値に代入する\n",
    "x = Symbol('x')\n",
    "y = Symbol('y')\n",
    "expr = x*x + x*y + x*y + y*y\n",
    "res = expr.subs({x:1, y:2})\n",
    "res"
   ]
  },
  {
   "cell_type": "code",
   "execution_count": 8,
   "metadata": {
    "collapsed": false
   },
   "outputs": [
    {
     "data": {
      "image/png": "[encoded data removed]",
      "text/latex": [
       "$$\\left(1 - y\\right)^{2} + 2 y \\left(1 - y\\right) + y^{2}$$"
      ],
      "text/plain": [
       "       2                  2\n",
       "(1 - y)  + 2⋅y⋅(1 - y) + y "
      ]
     },
     "execution_count": 8,
     "metadata": {},
     "output_type": "execute_result"
    }
   ],
   "source": [
    "res2 = expr.subs({x:1-y})\n",
    "res2"
   ]
  },
  {
   "cell_type": "code",
   "execution_count": 10,
   "metadata": {
    "collapsed": false
   },
   "outputs": [
    {
     "data": {
      "image/png": "[encoded data removed]",
      "text/latex": [
       "$$\\left(1 - y\\right)^{2} + 2 y \\left(1 - y\\right) + y^{2}$$"
      ],
      "text/plain": [
       "       2                  2\n",
       "(1 - y)  + 2⋅y⋅(1 - y) + y "
      ]
     },
     "execution_count": 10,
     "metadata": {},
     "output_type": "execute_result"
    }
   ],
   "source": [
    "from sympy import sympify\n",
    "sympify(res2)"
   ]
  },
  {
   "cell_type": "code",
   "execution_count": 13,
   "metadata": {
    "collapsed": false
   },
   "outputs": [
    {
     "name": "stdout",
     "output_type": "stream",
     "text": [
      "Enter a mathematical expression: x**2 + 3*x + x**3 + 2*x\n"
     ]
    },
    {
     "data": {
      "image/png": "[encoded data removed]",
      "text/latex": [
       "$$10 x + 2 x^{2} + 2 x^{3}$$"
      ],
      "text/plain": [
       "          2      3\n",
       "10⋅x + 2⋅x  + 2⋅x "
      ]
     },
     "execution_count": 13,
     "metadata": {},
     "output_type": "execute_result"
    }
   ],
   "source": [
    "expr = input('Enter a mathematical expression: ')\n",
    "expr = sympify(expr)\n",
    "2*expr"
   ]
  },
  {
   "cell_type": "code",
   "execution_count": 17,
   "metadata": {
    "collapsed": false
   },
   "outputs": [
    {
     "name": "stdout",
     "output_type": "stream",
     "text": [
      "x**2 + 3*x + x**3 + 2x\n",
      "Invalid input\n"
     ]
    }
   ],
   "source": [
    "from sympy.core.sympify import SympifyError\n",
    "expr = input()\n",
    "try:\n",
    "    expr = sympify(expr)\n",
    "except SympifyError:\n",
    "    print('Invalid input')"
   ]
  },
  {
   "cell_type": "code",
   "execution_count": 19,
   "metadata": {
    "collapsed": false
   },
   "outputs": [
    {
     "name": "stdout",
     "output_type": "stream",
     "text": [
      "firstx**2 + x*2 + x\n",
      "secondx**3 + x*3 + x\n",
      "x**5 + 3*x**4 + 4*x**3 + 12*x**2\n"
     ]
    }
   ],
   "source": [
    "'''\n",
    "Product of two expressions\n",
    "'''\n",
    "from sympy import expand, sympify\n",
    "from sympy.core.sympify import SympifyError\n",
    "\n",
    "def product(expr1, expr2):\n",
    "    prod = expand(expr1*expr2)\n",
    "    print(prod)\n",
    "    \n",
    "if __name__ == '__main__':\n",
    "    expr1 = input('first')\n",
    "    expr2 = input('second')\n",
    "    \n",
    "    try:\n",
    "        expr1 = sympify(expr1)\n",
    "        expr2 = sympify(expr2)\n",
    "    except SympifyError:\n",
    "        print('Invalid input')\n",
    "    else:\n",
    "        product(expr1, expr2)"
   ]
  },
  {
   "cell_type": "code",
   "execution_count": 21,
   "metadata": {
    "collapsed": false
   },
   "outputs": [
    {
     "data": {
      "image/png": "[encoded data removed]",
      "text/latex": [
       "$$\\left [ 12\\right ]$$"
      ],
      "text/plain": [
       "[12]"
      ]
     },
     "execution_count": 21,
     "metadata": {},
     "output_type": "execute_result"
    }
   ],
   "source": [
    "## 4.3 Solve the equation\n",
    "from sympy import solve\n",
    "expr = x - 5 - 7\n",
    "solve(expr) # answer is return by type 'list'"
   ]
  },
  {
   "cell_type": "code",
   "execution_count": 22,
   "metadata": {
    "collapsed": false
   },
   "outputs": [
    {
     "data": {
      "image/png": "[encoded data removed]",
      "text/latex": [
       "$$\\left [ \\left \\{ x : -4\\right \\}, \\quad \\left \\{ x : -1\\right \\}\\right ]$$"
      ],
      "text/plain": [
       "[{x: -4}, {x: -1}]"
      ]
     },
     "execution_count": 22,
     "metadata": {},
     "output_type": "execute_result"
    }
   ],
   "source": [
    "expr = x**2 + 5*x + 4\n",
    "solve(expr, dict=True)"
   ]
  },
  {
   "cell_type": "code",
   "execution_count": 26,
   "metadata": {
    "collapsed": false
   },
   "outputs": [
    {
     "data": {
      "image/png": "[encoded data removed]",
      "text/latex": [
       "$$\\left [ \\left \\{ x : - \\frac{\\sqrt{3} i}{2} - \\frac{1}{2}\\right \\}, \\quad \\left \\{ x : \\frac{\\sqrt{3} i}{2} - \\frac{1}{2}\\right \\}\\right ]$$"
      ],
      "text/plain": [
       "⎡⎧     √3⋅ⅈ   1⎫  ⎧   √3⋅ⅈ   1⎫⎤\n",
       "⎢⎨x: - ──── - ─⎬, ⎨x: ──── - ─⎬⎥\n",
       "⎣⎩      2     2⎭  ⎩    2     2⎭⎦"
      ]
     },
     "execution_count": 26,
     "metadata": {},
     "output_type": "execute_result"
    }
   ],
   "source": [
    "expr = x**2 + x + 1\n",
    "solve(expr, dict=True)"
   ]
  },
  {
   "cell_type": "code",
   "execution_count": 28,
   "metadata": {
    "collapsed": false
   },
   "outputs": [
    {
     "data": {
      "image/png": "[encoded data removed]",
      "text/latex": [
       "$$\\left [ \\left \\{ x : \\frac{1}{2 a} \\left(\\sqrt{b^{2} - 4 a c} - b\\right)\\right \\}, \\quad \\left \\{ x : - \\frac{1}{2 a} \\left(\\sqrt{b^{2} - 4 a c} + b\\right)\\right \\}\\right ]$$"
      ],
      "text/plain": [
       "⎡⎧      ____________    ⎫  ⎧    ⎛   ____________    ⎞ ⎫⎤\n",
       "⎢⎪     ╱  2             ⎪  ⎪    ⎜  ╱  2             ⎟ ⎪⎥\n",
       "⎢⎨   ╲╱  b  - 4⋅a⋅c  - b⎬  ⎨   -⎝╲╱  b  - 4⋅a⋅c  + b⎠ ⎬⎥\n",
       "⎢⎪x: ───────────────────⎪, ⎪x: ───────────────────────⎪⎥\n",
       "⎣⎩           2⋅a        ⎭  ⎩             2⋅a          ⎭⎦"
      ]
     },
     "execution_count": 28,
     "metadata": {},
     "output_type": "execute_result"
    }
   ],
   "source": [
    "from sympy import symbols\n",
    "x,a,b,c = symbols('x,a,b,c')\n",
    "expr = a*x*x + b*x + c\n",
    "solve(expr, x, dict=True)"
   ]
  },
  {
   "cell_type": "code",
   "execution_count": 30,
   "metadata": {
    "collapsed": false
   },
   "outputs": [
    {
     "data": {
      "image/png": "[encoded data removed]",
      "text/latex": [
       "$$\\left [ \\left \\{ t : \\frac{1}{a} \\left(\\sqrt{u^{2} + 2.0 a s} - u\\right)\\right \\}, \\quad \\left \\{ t : - \\frac{1}{a} \\left(\\sqrt{u^{2} + 2.0 a s} + u\\right)\\right \\}\\right ]$$"
      ],
      "text/plain": [
       "⎡⎧      ______________    ⎫  ⎧    ⎛   ______________    ⎞ ⎫⎤\n",
       "⎢⎪     ╱  2               ⎪  ⎪    ⎜  ╱  2               ⎟ ⎪⎥\n",
       "⎢⎨   ╲╱  u  + 2.0⋅a⋅s  - u⎬  ⎨   -⎝╲╱  u  + 2.0⋅a⋅s  + u⎠ ⎬⎥\n",
       "⎢⎪t: ─────────────────────⎪, ⎪t: ─────────────────────────⎪⎥\n",
       "⎣⎩             a          ⎭  ⎩               a            ⎭⎦"
      ]
     },
     "execution_count": 30,
     "metadata": {},
     "output_type": "execute_result"
    }
   ],
   "source": [
    "s,u,t,a = symbols('s,u,t,a')\n",
    "expr = u*t + (1/2)*a*t*t - s\n",
    "t_expr = solve(expr, t, dict=True)\n",
    "#pprint(t_expr)\n",
    "t_expr"
   ]
  },
  {
   "cell_type": "code",
   "execution_count": 39,
   "metadata": {
    "collapsed": false
   },
   "outputs": [
    {
     "data": {
      "image/png": "[encoded data removed]",
      "text/latex": [
       "$$\\left [ \\left \\{ x : \\frac{24}{5}, \\quad y : - \\frac{6}{5}\\right \\}\\right ]$$"
      ],
      "text/plain": [
       "[{x: 24/5, y: -6/5}]"
      ]
     },
     "execution_count": 39,
     "metadata": {},
     "output_type": "execute_result"
    }
   ],
   "source": [
    "## solve and check the answer\n",
    "x,y = symbols('x,y')\n",
    "expr1 = 2*x + 3*y - 6\n",
    "expr2 = 3*x + 2*y - 12\n",
    "soln = solve((expr1, expr2), dict=True)\n",
    "soln"
   ]
  },
  {
   "cell_type": "code",
   "execution_count": 41,
   "metadata": {
    "collapsed": false
   },
   "outputs": [
    {
     "data": {
      "image/png": "[encoded data removed]",
      "text/latex": [
       "$$\\frac{24}{5}$$"
      ],
      "text/plain": [
       "24/5"
      ]
     },
     "execution_count": 41,
     "metadata": {},
     "output_type": "execute_result"
    }
   ],
   "source": [
    "soln[0][x]"
   ]
  },
  {
   "cell_type": "code",
   "execution_count": 36,
   "metadata": {
    "collapsed": false
   },
   "outputs": [
    {
     "data": {
      "image/png": "[encoded data removed]",
      "text/latex": [
       "$$0$$"
      ],
      "text/plain": [
       "0"
      ]
     },
     "execution_count": 36,
     "metadata": {},
     "output_type": "execute_result"
    }
   ],
   "source": [
    "soln = soln[0]\n",
    "expr1.subs({x:soln[x], y:soln[y]})"
   ]
  },
  {
   "cell_type": "code",
   "execution_count": 38,
   "metadata": {
    "collapsed": false,
    "scrolled": true
   },
   "outputs": [
    {
     "data": {
      "image/png": "[encoded data removed]",
      "text/latex": [
       "$$0$$"
      ],
      "text/plain": [
       "0"
      ]
     },
     "execution_count": 38,
     "metadata": {},
     "output_type": "execute_result"
    }
   ],
   "source": [
    "expr2.subs({x:soln[x], y:soln[y]})"
   ]
  },
  {
   "cell_type": "code",
   "execution_count": 42,
   "metadata": {
    "collapsed": false
   },
   "outputs": [
    {
     "data": {
      "image/png": "[encoded data removed]",
      "text/plain": [
       "<matplotlib.figure.Figure at 0x10c3ba048>"
      ]
     },
     "metadata": {},
     "output_type": "display_data"
    },
    {
     "data": {
      "text/plain": [
       "<sympy.plotting.plot.Plot at 0x104934668>"
      ]
     },
     "execution_count": 42,
     "metadata": {},
     "output_type": "execute_result"
    }
   ],
   "source": [
    "# 4.4 Plot data using SymPy\n",
    "from sympy.plotting import plot\n",
    "from sympy import Symbol\n",
    "x = Symbol('x')\n",
    "plot(2*x+3)"
   ]
  },
  {
   "cell_type": "code",
   "execution_count": 43,
   "metadata": {
    "collapsed": false
   },
   "outputs": [
    {
     "data": {
      "image/png": "[encoded data removed]",
      "text/plain": [
       "<matplotlib.figure.Figure at 0x10c9ba7b8>"
      ]
     },
     "metadata": {},
     "output_type": "display_data"
    },
    {
     "data": {
      "text/plain": [
       "<sympy.plotting.plot.Plot at 0x10c9baa58>"
      ]
     },
     "execution_count": 43,
     "metadata": {},
     "output_type": "execute_result"
    }
   ],
   "source": [
    "plot((2*x+3), (x, -5,5))"
   ]
  },
  {
   "cell_type": "code",
   "execution_count": 46,
   "metadata": {
    "collapsed": false
   },
   "outputs": [],
   "source": [
    "p = plot(2*x+3, (x,-5,5), title='A Line', xlabel='x', ylabel='2x+3', show=False)\n",
    "p.save('line.png')"
   ]
  },
  {
   "cell_type": "code",
   "execution_count": 47,
   "metadata": {
    "collapsed": true
   },
   "outputs": [],
   "source": [
    "# 4.4.1~"
   ]
  },
  {
   "cell_type": "code",
   "execution_count": null,
   "metadata": {
    "collapsed": true
   },
   "outputs": [],
   "source": []
  }
 ],
 "metadata": {
  "kernelspec": {
   "display_name": "Python [default]",
   "language": "python",
   "name": "python3"
  },
  "language_info": {
   "codemirror_mode": {
    "name": "ipython",
    "version": 3
   },
   "file_extension": ".py",
   "mimetype": "text/x-python",
   "name": "python",
   "nbconvert_exporter": "python",
   "pygments_lexer": "ipython3",
   "version": "3.5.2"
  }
 },
 "nbformat": 4,
 "nbformat_minor": 1
}
